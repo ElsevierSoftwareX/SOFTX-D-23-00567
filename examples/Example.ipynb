{
 "cells": [
  {
   "cell_type": "markdown",
   "id": "ecae1630",
   "metadata": {},
   "source": [
    "# Simple example\n",
    "\n",
    "This Section demonstrates how to apply our `pymcdm` library in a simple case. It will be demonstrated on an artificial decision matrix with 3 criteria and 4 alternatives."
   ]
  },
  {
   "cell_type": "code",
   "execution_count": 1,
   "id": "30b0faae",
   "metadata": {},
   "outputs": [],
   "source": [
    "import os\n",
    "\n",
    "import numpy as np\n",
    "import matplotlib.pyplot as plt\n",
    "\n",
    "from pymcdm.methods import TOPSIS\n",
    "from pymcdm.helpers import rrankdata"
   ]
  },
  {
   "cell_type": "code",
   "execution_count": 2,
   "id": "a6a92adc",
   "metadata": {},
   "outputs": [],
   "source": [
    "if not os.path.isdir('./images'):\n",
    "    os.mkdir('./images')"
   ]
  },
  {
   "cell_type": "markdown",
   "id": "8525d1d6",
   "metadata": {},
   "source": [
    "Definition of a decision matrix. Usually, you will want to read one from the file."
   ]
  },
  {
   "cell_type": "code",
   "execution_count": 3,
   "id": "20df35bf",
   "metadata": {},
   "outputs": [],
   "source": [
    "alts = np.array([\n",
    "    [4, 4, 0.2],\n",
    "    [1, 5, 0.5],\n",
    "    [3, 2, 0.3],\n",
    "    [4, 2, 0.5]\n",
    "])"
   ]
  },
  {
   "cell_type": "markdown",
   "id": "bc6a60b8",
   "metadata": {},
   "source": [
    "Define the vector of weights. The Sum of the weights should be equal 1."
   ]
  },
  {
   "cell_type": "code",
   "execution_count": 4,
   "id": "46805f98",
   "metadata": {},
   "outputs": [],
   "source": [
    "weights = np.array([0.3, 0.5, 0.2])"
   ]
  },
  {
   "cell_type": "markdown",
   "id": "f2aa6b93",
   "metadata": {},
   "source": [
    "Define criteria types. The first and third are benefits, so we have 1 in `types` vector, and the second one is a cost, so we have -1 in this vector."
   ]
  },
  {
   "cell_type": "code",
   "execution_count": 5,
   "id": "69aca0ff",
   "metadata": {},
   "outputs": [],
   "source": [
    "types = np.array([1, -1, 1])"
   ]
  },
  {
   "cell_type": "markdown",
   "id": "b795febc",
   "metadata": {},
   "source": [
    "In the `pymcdm` library, every MCDA method is a class, so we first need to crate the object of out method. Some methods allow a certain degree of customization, e.g., the TOPSIS method allows to change normalization method in the constructor. Default normalization is a min-max normalization."
   ]
  },
  {
   "cell_type": "code",
   "execution_count": 6,
   "id": "a89b1d02",
   "metadata": {},
   "outputs": [],
   "source": [
    "topsis = TOPSIS()"
   ]
  },
  {
   "cell_type": "markdown",
   "id": "7a19c482",
   "metadata": {},
   "source": [
    "Next, we want to apply the chosen method to our MCDA problem."
   ]
  },
  {
   "cell_type": "code",
   "execution_count": 7,
   "id": "57679192",
   "metadata": {},
   "outputs": [],
   "source": [
    "pref = topsis(alts, weights, types)\n",
    "print(np.round(pref, 4))"
   ]
  },
  {
   "cell_type": "markdown",
   "id": "a2fef009",
   "metadata": {},
   "source": [
    "So we have calculated the preferences of the given four alternatives. The last one has a preference equal to 1, so this one is the best alternative. For the TOPSIS method, the most significant value of the preference means a better alternative. For other methods, you should check our documentation or methods described.\n",
    "\n",
    "The last thing we want to do here is building of the ranking. We will use `rranking` method from the `helpers` module of the `pymcdm` library to rank those alternatives from the most significant preference value to the lowest preference value."
   ]
  },
  {
   "cell_type": "code",
   "execution_count": 8,
   "id": "e7011477",
   "metadata": {},
   "outputs": [],
   "source": [
    "rank = rrankdata(pref)\n",
    "print(rank)"
   ]
  },
  {
   "cell_type": "markdown",
   "id": "90616ab9",
   "metadata": {},
   "source": [
    "Alternatively, every method's object has a `rank()` method, which allows correctly ranking obtained preference."
   ]
  },
  {
   "cell_type": "code",
   "execution_count": 9,
   "id": "81c71163",
   "metadata": {},
   "outputs": [],
   "source": [
    "rank = topsis.rank(pref)\n",
    "print(rank)"
   ]
  },
  {
   "cell_type": "markdown",
   "id": "f87df21a",
   "metadata": {},
   "source": [
    "So our ranking is `[3, 4, 2, 1]`, but how to interpret those values? The first value in the ranking is 3, corresponding to the first alternative, so the alternative $A_1$ has position 3 in the ranking. Alternative $A_2$ has 4th position, $A_3$ has 2nd position, and $A_4$ has the first position in the final ranking."
   ]
  },
  {
   "cell_type": "markdown",
   "id": "a275bd18",
   "metadata": {},
   "source": [
    "# Using several MCDA methods for a decision problem"
   ]
  },
  {
   "cell_type": "markdown",
   "id": "5f71a425",
   "metadata": {},
   "source": [
    "In this example, we want to show how to apply several MCDA methods to a decision problem. We will show how to apply TOPSIS, MABAC COMET, and SPOTIS.\n",
    "\n",
    "We show how to read data from csv using pandas, and then we need to create objects of the chosen methods. Because of the uniform interface of every method, we could create a list of the MCDA methods objects and then apply those methods using for loop."
   ]
  },
  {
   "cell_type": "code",
   "execution_count": 10,
   "id": "6d872436",
   "metadata": {},
   "outputs": [],
   "source": [
    "import pandas as pd\n",
    "\n",
    "from pymcdm.methods import TOPSIS, MABAC, COMET, SPOTIS\n",
    "from pymcdm import weights as w\n",
    "from pymcdm.helpers import rankdata, rrankdata\n",
    "from pymcdm.methods.comet_tools import MethodExpert"
   ]
  },
  {
   "cell_type": "code",
   "execution_count": 11,
   "id": "fd88d228",
   "metadata": {
    "scrolled": false
   },
   "outputs": [],
   "source": [
    "df = pd.read_csv('vans.csv')\n",
    "\n",
    "# Use only columns with numerical data\n",
    "alts = df[df.columns[3:]].to_numpy()"
   ]
  },
  {
   "cell_type": "code",
   "execution_count": 12,
   "id": "70145495",
   "metadata": {},
   "outputs": [],
   "source": [
    "df"
   ]
  },
  {
   "cell_type": "code",
   "execution_count": 13,
   "id": "ed2fa03a",
   "metadata": {},
   "outputs": [],
   "source": [
    "# Define weights and criteria types.\n",
    "weights = w.entropy_weights(alts)\n",
    "types = np.array([1, 1, 1, 1, 1, -1, -1, 1, -1])\n",
    "\n",
    "# To use the COMET method, we need to define characteristic values.\n",
    "# It could be achieved using `make_cvalues` static method of a COMET object.\n",
    "# Alternatively, characteristic values should be provided by an expert.\n",
    "cvalues = COMET.make_cvalues(alts)\n",
    "\n",
    "# COMET method also uses a expert_function to rate characteristic objects.\n",
    "# To automatize the process, `MethodExpert` class could be used.\n",
    "expert_function = MethodExpert(TOPSIS(), weights, types)\n",
    "\n",
    "# A similar thing should be done for the SPOTIS method. For this method decision\n",
    "# bounds should be provided. Bounds could be defined by a decision maker or\n",
    "# calculated automatically from the data.\n",
    "bounds = SPOTIS.make_bounds(alts)"
   ]
  },
  {
   "cell_type": "markdown",
   "id": "e1e992b0",
   "metadata": {},
   "source": [
    "Finally, we could define a list of chosen methods."
   ]
  },
  {
   "cell_type": "code",
   "execution_count": 14,
   "id": "85fafc2e",
   "metadata": {},
   "outputs": [],
   "source": [
    "methods = [\n",
    "    TOPSIS(),\n",
    "    MABAC(),\n",
    "    COMET(cvalues, expert_function),\n",
    "    SPOTIS()\n",
    "]\n",
    "\n",
    "method_names = ['TOPSIS', 'MABAC', 'COMET', 'SPOTIS']"
   ]
  },
  {
   "cell_type": "markdown",
   "id": "3f2e588c",
   "metadata": {},
   "source": [
    "Now we want to apply those methods in the for loop to get rankings and the preferences for this decision problem."
   ]
  },
  {
   "cell_type": "code",
   "execution_count": 15,
   "id": "62dfdbb9",
   "metadata": {},
   "outputs": [],
   "source": [
    "prefs = []\n",
    "ranks = []\n",
    "\n",
    "for method in methods:\n",
    "    pref = method(alts, weights, types, bounds=bounds)\n",
    "    rank = method.rank(pref)\n",
    "    \n",
    "    prefs.append(pref)\n",
    "    ranks.append(rank)"
   ]
  },
  {
   "cell_type": "markdown",
   "id": "dedfb2da",
   "metadata": {},
   "source": [
    "And then, we want to construct and show tables with preferences and rankings for every alternative."
   ]
  },
  {
   "cell_type": "code",
   "execution_count": 16,
   "id": "e357006a",
   "metadata": {},
   "outputs": [],
   "source": [
    "a = [f'$A_{{{i+1}}}$' for i in range(len(prefs[0]))]\n",
    "pd.DataFrame(zip(*prefs), columns=method_names, index=a).round(3)"
   ]
  },
  {
   "cell_type": "code",
   "execution_count": 17,
   "id": "a821285d",
   "metadata": {},
   "outputs": [],
   "source": [
    "pd.DataFrame(zip(*ranks), columns=method_names, index=a).astype('int')"
   ]
  },
  {
   "cell_type": "markdown",
   "id": "93379738",
   "metadata": {},
   "source": [
    "# Visualisation of the rankings\n",
    "\n",
    "The `pymcdm` library also includes more than ten ways to visualize results obtained with different methods. First, we will demonstrate four ways to visualize the differences between different rankings.\n",
    "\n",
    "The first two ways are a `ranking_bar` and `ranking_flows` functions from `visuals` sub-module. You could just use those functions or provide an Axes on which those plots should be drawn."
   ]
  },
  {
   "cell_type": "code",
   "execution_count": 18,
   "id": "ab304956",
   "metadata": {},
   "outputs": [],
   "source": [
    "from pymcdm import visuals"
   ]
  },
  {
   "cell_type": "code",
   "execution_count": 19,
   "id": "9cd4b52e",
   "metadata": {},
   "outputs": [],
   "source": [
    "fig, ax = plt.subplots(figsize=(7, 3), dpi=150, tight_layout=True)\n",
    "visuals.ranking_bar(ranks, labels=method_names, ax=ax)\n",
    "plt.savefig('images/ranking_bar.pdf', bbox_inches='tight')\n",
    "plt.show()"
   ]
  },
  {
   "cell_type": "code",
   "execution_count": 20,
   "id": "1bdc285d",
   "metadata": {},
   "outputs": [],
   "source": [
    "fig, ax = plt.subplots(figsize=(7, 3), dpi=150, tight_layout=True)\n",
    "visuals.ranking_flows(ranks, labels=method_names, ax=ax)\n",
    "plt.savefig('images/ranking_flows.pdf', bbox_inches='tight')\n",
    "plt.show()"
   ]
  },
  {
   "cell_type": "markdown",
   "id": "46220ffd",
   "metadata": {},
   "source": [
    "The next one is a `polar_plot` function, which creates a web plot of different rankings. It would help if you created Axes with an `'polar'` projection, or this function will not work."
   ]
  },
  {
   "cell_type": "code",
   "execution_count": 21,
   "id": "4209bd91",
   "metadata": {},
   "outputs": [],
   "source": [
    "fig, ax = plt.subplots(figsize=(4, 4), dpi=150, tight_layout=True, subplot_kw=dict(projection='polar'))\n",
    "visuals.polar_plot(ranks, labels=method_names, legend_ncol=2, ax=ax)\n",
    "plt.savefig('images/polar_plot.pdf', bbox_inches='tight')\n",
    "plt.show()"
   ]
  },
  {
   "cell_type": "markdown",
   "id": "ce0fe18d",
   "metadata": {},
   "source": [
    "The next is a `ranking_scatter` function, which visualizes your rankings as scatter points. This function could visualize only two rankings."
   ]
  },
  {
   "cell_type": "code",
   "execution_count": 22,
   "id": "73de58db",
   "metadata": {},
   "outputs": [],
   "source": [
    "fig, ax = plt.subplots(figsize=(4, 4), dpi=150, tight_layout=True)\n",
    "visuals.ranking_scatter(ranks[0], ranks[1], ax=ax)\n",
    "plt.savefig('images/ranking_scatter.pdf', bbox_inches='tight')\n",
    "plt.show()"
   ]
  },
  {
   "cell_type": "markdown",
   "id": "5e96267b",
   "metadata": {},
   "source": [
    "# Visualization of the correlations between rankings\n",
    "\n",
    "The following function allows us to visualize the correlations between several rankings."
   ]
  },
  {
   "cell_type": "code",
   "execution_count": 23,
   "id": "4c053fb9",
   "metadata": {},
   "outputs": [],
   "source": [
    "from pymcdm.correlations import weighted_spearman\n",
    "from pymcdm.helpers import correlation_matrix"
   ]
  },
  {
   "cell_type": "code",
   "execution_count": 24,
   "id": "66f27e85",
   "metadata": {},
   "outputs": [],
   "source": [
    "# Basic usage\n",
    "corr_matrix = correlation_matrix(np.array(ranks), weighted_spearman)\n",
    "\n",
    "visuals.correlation_heatmap(corr_matrix, labels=method_names)\n",
    "plt.savefig('heatmap1.pdf', bbox_inches='tight')\n",
    "plt.show()"
   ]
  },
  {
   "cell_type": "markdown",
   "id": "29b7c197",
   "metadata": {},
   "source": [
    "Those plots are highly customizable, you could see more comlex example below."
   ]
  },
  {
   "cell_type": "code",
   "execution_count": 25,
   "id": "c692805a",
   "metadata": {},
   "outputs": [],
   "source": [
    "# More complex example\n",
    "corr_matrix = correlation_matrix(np.array(ranks), weighted_spearman)\n",
    "\n",
    "fig, ax = plt.subplots(figsize=(4, 4), dpi=150, tight_layout=True)\n",
    "visuals.correlation_heatmap(corr_matrix,\n",
    "                            labels=method_names,\n",
    "                            labeltop=True,\n",
    "                            cmap='Blues',\n",
    "                            adapt_text_colors=['k', 'w'],\n",
    "                            colorbar=True,\n",
    "                            ax=ax)\n",
    "plt.savefig('images/heatmap2.pdf', bbox_inches='tight')\n",
    "plt.show()"
   ]
  },
  {
   "cell_type": "markdown",
   "id": "b1244019",
   "metadata": {},
   "source": [
    "# COMET visualization\n",
    "\n",
    "Using the COMET method in your research, you could visualize the MEJ matrix and characteristic objects with our library. We will demonstrate this on a two-criterion subset of the decision matrix."
   ]
  },
  {
   "cell_type": "code",
   "execution_count": 26,
   "id": "4256dc2a",
   "metadata": {},
   "outputs": [],
   "source": [
    "alts = df[['engine power', 'engine torque']].to_numpy()\n",
    "\n",
    "weights = np.ones(2) / 2\n",
    "types = np.ones(2)\n",
    "cvalues = COMET.make_cvalues(alts)\n",
    "\n",
    "comet = COMET(cvalues, MethodExpert(TOPSIS(), weights, types))"
   ]
  },
  {
   "cell_type": "markdown",
   "id": "ea661df1",
   "metadata": {},
   "source": [
    "First, we can draw the MEJ matrix, which is used for characteristic rating objects. Green pixels mean 1, and red pixels mean 0. Blue ones are for ties (0.5)."
   ]
  },
  {
   "cell_type": "code",
   "execution_count": 27,
   "id": "c23ec384",
   "metadata": {},
   "outputs": [],
   "source": [
    "fig, ax = plt.subplots(figsize=(4, 4), dpi=150, tight_layout=True)\n",
    "visuals.mej_plot(comet.get_MEJ())\n",
    "plt.savefig('images/mej.pdf', bbox_inches='tight')\n",
    "plt.show()"
   ]
  },
  {
   "cell_type": "markdown",
   "id": "933d4f04",
   "metadata": {},
   "source": [
    "The following visualization is a plot of characteristic objects with alternatives. This one will work only in the case of 2 criteria."
   ]
  },
  {
   "cell_type": "code",
   "execution_count": 28,
   "id": "4bf32687",
   "metadata": {},
   "outputs": [],
   "source": [
    "fig, ax = plt.subplots(figsize=(4, 4), dpi=150, tight_layout=True)\n",
    "visuals.comet_2d_plot(cvalues, alts)\n",
    "plt.savefig('images/comet2d.pdf', bbox_inches='tight')\n",
    "plt.show()"
   ]
  },
  {
   "cell_type": "markdown",
   "id": "12a4bbfa",
   "metadata": {},
   "source": [
    "There is also a 3d version of this plot that supports 3 criteria. Notice that the axis should be created with `projection='3d'` argument."
   ]
  },
  {
   "cell_type": "code",
   "execution_count": 29,
   "id": "b58e7642",
   "metadata": {},
   "outputs": [],
   "source": [
    "alts = df[['engine power', 'engine torque', 'max velocity']].to_numpy()\n",
    "\n",
    "cvalues = COMET.make_cvalues(alts)\n",
    "\n",
    "fig, ax = plt.subplots(figsize=(5, 5), dpi=150, tight_layout=True, subplot_kw=dict(projection='3d'))\n",
    "visuals.comet_3d_plot(cvalues, alts, ax=ax)\n",
    "plt.savefig('images/comet3.pdf', bbox_inches='tight')\n",
    "plt.show()"
   ]
  },
  {
   "cell_type": "markdown",
   "id": "33f85bc9",
   "metadata": {},
   "source": [
    "# Weights visualization\n",
    "\n",
    "With our library is also possible to calculate criteria weights with different objective methods and visualize them on the bar diagrams as shown below."
   ]
  },
  {
   "cell_type": "code",
   "execution_count": 30,
   "id": "0c5dd6d5",
   "metadata": {},
   "outputs": [],
   "source": [
    "from pymcdm import weights as w"
   ]
  },
  {
   "cell_type": "code",
   "execution_count": 31,
   "id": "3bb6111f",
   "metadata": {},
   "outputs": [],
   "source": [
    "# Get full decision matrix once again\n",
    "alts = df[df.columns[3:]].to_numpy()\n",
    "\n",
    "# Define list with several weighting methods\n",
    "weighting_methods = [\n",
    "    w.equal_weights,\n",
    "    w.entropy_weights,\n",
    "    w.standard_deviation_weights,\n",
    "    w.gini_weights\n",
    "]\n",
    "\n",
    "weight_sets = []\n",
    "for m in weighting_methods:\n",
    "    weight_sets.append(m(alts))"
   ]
  },
  {
   "cell_type": "code",
   "execution_count": 32,
   "id": "7158ac5c",
   "metadata": {},
   "outputs": [],
   "source": [
    "fig, ax = plt.subplots(figsize=(7, 3), dpi=150, tight_layout=True)\n",
    "\n",
    "visuals.weights_plot(weight_sets,\n",
    "                     xticklabels=['Equal', 'Entropy', 'Std', 'Gini'],\n",
    "                     legend_ncol=9,\n",
    "                     ax=ax)\n",
    "plt.savefig('images/weights.pdf', bbox_inches='tight')\n",
    "plt.show()"
   ]
  },
  {
   "cell_type": "code",
   "execution_count": 33,
   "id": "4acb2e5d",
   "metadata": {},
   "outputs": [],
   "source": [
    "fig, ax = plt.subplots(figsize=(5, 6), dpi=150, tight_layout=True, subplot_kw=dict(projection='polar'))\n",
    "\n",
    "visuals.polar_weights(weight_sets,\n",
    "                      xticklabels=['Equal', 'Entropy', 'Std', 'Gini'],\n",
    "                      legend_ncol=5,\n",
    "                      ax=ax)\n",
    "plt.tight_layout()\n",
    "plt.savefig('images/weights_polar.pdf', bbox_inches='tight')\n",
    "plt.show()"
   ]
  },
  {
   "cell_type": "markdown",
   "id": "3b700e00",
   "metadata": {},
   "source": [
    "# PROMETHEE I partial ranking visualization\n",
    "\n",
    "Our library also have an implementation of the PROMETHEE method which could build only a partial ranking. This ranking could be visualized as a graph or as a flows as it shown below."
   ]
  },
  {
   "cell_type": "code",
   "execution_count": 34,
   "id": "9b0cc1fd",
   "metadata": {},
   "outputs": [],
   "source": [
    "from pymcdm.methods import PROMETHEE_II\n",
    "\n",
    "prom = PROMETHEE_II(preference_function='usual')"
   ]
  },
  {
   "cell_type": "code",
   "execution_count": 35,
   "id": "978059b3",
   "metadata": {},
   "outputs": [],
   "source": [
    "# Once again create weights and types of criteria\n",
    "weights = w.entropy_weights(alts)\n",
    "types = np.array([1, 1, 1, 1, 1, -1, -1, 1, -1])"
   ]
  },
  {
   "cell_type": "code",
   "execution_count": 36,
   "id": "ea6b2b89",
   "metadata": {},
   "outputs": [],
   "source": [
    "# You should pass promethee_I=True argument to get PROMETHEE I output\n",
    "Fp, Fm = prom(alts, weights, types, promethee_I=True)"
   ]
  },
  {
   "cell_type": "code",
   "execution_count": 37,
   "id": "6c892c77",
   "metadata": {},
   "outputs": [],
   "source": [
    "fig, ax = plt.subplots(figsize=(4, 4), dpi=150, tight_layout=True)\n",
    "\n",
    "visuals.promethee_I_flows(Fp, Fm)\n",
    "plt.savefig('images/promethee_flows.pdf', bbox_inches='tight')\n",
    "plt.show()"
   ]
  },
  {
   "cell_type": "code",
   "execution_count": 38,
   "id": "c73f45f2",
   "metadata": {},
   "outputs": [],
   "source": [
    "fig, ax = plt.subplots(figsize=(4, 4), dpi=150, tight_layout=True)\n",
    "\n",
    "visuals.promethee_I_graph(Fp, Fm)\n",
    "plt.savefig('images/promethee_graph.pdf', bbox_inches='tight')\n",
    "plt.show()"
   ]
  },
  {
   "cell_type": "markdown",
   "id": "f6730ff5",
   "metadata": {},
   "source": [
    "# Visualization of many correlations\n",
    "\n",
    "This function could be used to visualize the distribution of the correlations of many rankings. We will provide only a simple example to show how to use them."
   ]
  },
  {
   "cell_type": "code",
   "execution_count": 39,
   "id": "dcf01f4a",
   "metadata": {},
   "outputs": [],
   "source": [
    "data = np.array([\n",
    "    np.random.rand(100),\n",
    "    np.random.rand(100),\n",
    "])"
   ]
  },
  {
   "cell_type": "code",
   "execution_count": 40,
   "id": "6d0c4ae9",
   "metadata": {},
   "outputs": [],
   "source": [
    "fig, ax = plt.subplots(figsize=(6, 4), dpi=150, tight_layout=True)\n",
    "\n",
    "visuals.boxplot(data)\n",
    "plt.savefig('images/boxplot.pdf', bbox_inches='tight')\n",
    "plt.show()"
   ]
  },
  {
   "cell_type": "code",
   "execution_count": 41,
   "id": "535d7dd8",
   "metadata": {},
   "outputs": [],
   "source": [
    "fig, ax = plt.subplots(figsize=(6, 4), dpi=150, tight_layout=True)\n",
    "\n",
    "visuals.violin(data)\n",
    "plt.savefig('images/boxplot.pdf', bbox_inches='tight')\n",
    "plt.show()"
   ]
  }
 ],
 "metadata": {
  "kernelspec": {
   "display_name": "Python 3 (ipykernel)",
   "language": "python",
   "name": "python3"
  },
  "language_info": {
   "codemirror_mode": {
    "name": "ipython",
    "version": 3
   },
   "file_extension": ".py",
   "mimetype": "text/x-python",
   "name": "python",
   "nbconvert_exporter": "python",
   "pygments_lexer": "ipython3",
   "version": "3.11.3"
  }
 },
 "nbformat": 4,
 "nbformat_minor": 5
}
